{
 "cells": [
  {
   "cell_type": "code",
   "execution_count": 1,
   "metadata": {},
   "outputs": [
    {
     "name": "stdout",
     "output_type": "stream",
     "text": [
      "/sunjinsheng/codebase/cv_codeformer\n"
     ]
    }
   ],
   "source": [
    "%cd .."
   ]
  },
  {
   "cell_type": "code",
   "execution_count": 10,
   "metadata": {},
   "outputs": [],
   "source": [
    "import argparse\n",
    "import os\n",
    "import glob\n",
    "\n",
    "import numpy as np\n",
    "import cv2\n",
    "import torch\n",
    "from torchvision.transforms.functional import normalize\n",
    "\n",
    "from src.utils import imwrite, img2tensor, tensor2img\n",
    "from src.utils.registry import ARCH_REGISTRY\n",
    "from src.archs import * # !register architectures"
   ]
  },
  {
   "cell_type": "code",
   "execution_count": 9,
   "metadata": {},
   "outputs": [
    {
     "data": {
      "text/plain": [
       "Namespace(test_path='inputs/cropped_faces', save_root='results/vqgan_rec', codebook_size=1024, ckpt_path='weights/codeformer/stage1/vqgan_code1024.pth')"
      ]
     },
     "execution_count": 9,
     "metadata": {},
     "output_type": "execute_result"
    }
   ],
   "source": [
    "parser = argparse.ArgumentParser()\n",
    "parser.add_argument('-i', '--test_path', type=str, default='datasets/ffhq/ffhq_512')\n",
    "parser.add_argument('-o', '--save_root', type=str, default='./results/vqgan_rec')\n",
    "parser.add_argument('--codebook_size', type=int, default=1024)\n",
    "parser.add_argument('--ckpt_path', type=str, default='./experiments/pretrained_models/vqgan/net_g.pth')\n",
    "args = parser.parse_args([\n",
    "    '-i','inputs/cropped_faces',\n",
    "    '-o','results/vqgan_rec',\n",
    "    '--codebook_size','1024',\n",
    "    '--ckpt_path','weights/codeformer/stage1/vqgan_code1024.pth'])\n",
    "args"
   ]
  },
  {
   "cell_type": "code",
   "execution_count": 5,
   "metadata": {},
   "outputs": [],
   "source": [
    "if args.save_root.endswith('/'):  # solve when path ends with /\n",
    "    args.save_root = args.save_root[:-1]\n",
    "dir_name = os.path.abspath(args.save_root)\n",
    "os.makedirs(dir_name, exist_ok=True)"
   ]
  },
  {
   "cell_type": "code",
   "execution_count": null,
   "metadata": {},
   "outputs": [],
   "source": [
    "device = torch.device('cuda' if torch.cuda.is_available() else 'cpu')\n",
    "test_path = args.test_path\n",
    "save_root = args.save_root\n",
    "ckpt_path = args.ckpt_path\n",
    "codebook_size = args.codebook_size"
   ]
  },
  {
   "cell_type": "code",
   "execution_count": 6,
   "metadata": {},
   "outputs": [
    {
     "ename": "KeyError",
     "evalue": "\"No object named 'VQAutoEncoder' found in 'arch' registry!\"",
     "output_type": "error",
     "traceback": [
      "\u001b[0;31m---------------------------------------------------------------------------\u001b[0m",
      "\u001b[0;31mKeyError\u001b[0m                                  Traceback (most recent call last)",
      "Cell \u001b[0;32mIn[6], line 1\u001b[0m\n\u001b[0;32m----> 1\u001b[0m vqgan \u001b[38;5;241m=\u001b[39m \u001b[43mARCH_REGISTRY\u001b[49m\u001b[38;5;241;43m.\u001b[39;49m\u001b[43mget\u001b[49m\u001b[43m(\u001b[49m\u001b[38;5;124;43m'\u001b[39;49m\u001b[38;5;124;43mVQAutoEncoder\u001b[39;49m\u001b[38;5;124;43m'\u001b[39;49m\u001b[43m)\u001b[49m(\n\u001b[1;32m      2\u001b[0m     \u001b[38;5;241m512\u001b[39m, \u001b[38;5;241m64\u001b[39m, [\u001b[38;5;241m1\u001b[39m, \u001b[38;5;241m2\u001b[39m, \u001b[38;5;241m2\u001b[39m, \u001b[38;5;241m4\u001b[39m, \u001b[38;5;241m4\u001b[39m, \u001b[38;5;241m8\u001b[39m], \u001b[38;5;124m'\u001b[39m\u001b[38;5;124mnearest\u001b[39m\u001b[38;5;124m'\u001b[39m,\n\u001b[1;32m      3\u001b[0m     codebook_size\u001b[38;5;241m=\u001b[39mcodebook_size\n\u001b[1;32m      4\u001b[0m )\u001b[38;5;241m.\u001b[39mto(device)\n\u001b[1;32m      6\u001b[0m checkpoint \u001b[38;5;241m=\u001b[39m torch\u001b[38;5;241m.\u001b[39mload(ckpt_path)[\u001b[38;5;124m'\u001b[39m\u001b[38;5;124mparams_ema\u001b[39m\u001b[38;5;124m'\u001b[39m]\n\u001b[1;32m      7\u001b[0m vqgan\u001b[38;5;241m.\u001b[39mload_state_dict(checkpoint)\n",
      "File \u001b[0;32m/sunjinsheng/codebase/cv_codeformer/src/utils/registry.py:65\u001b[0m, in \u001b[0;36mRegistry.get\u001b[0;34m(self, name)\u001b[0m\n\u001b[1;32m     63\u001b[0m ret \u001b[38;5;241m=\u001b[39m \u001b[38;5;28mself\u001b[39m\u001b[38;5;241m.\u001b[39m_obj_map\u001b[38;5;241m.\u001b[39mget(name)\n\u001b[1;32m     64\u001b[0m \u001b[38;5;28;01mif\u001b[39;00m ret \u001b[38;5;129;01mis\u001b[39;00m \u001b[38;5;28;01mNone\u001b[39;00m:\n\u001b[0;32m---> 65\u001b[0m     \u001b[38;5;28;01mraise\u001b[39;00m \u001b[38;5;167;01mKeyError\u001b[39;00m(\u001b[38;5;124mf\u001b[39m\u001b[38;5;124m\"\u001b[39m\u001b[38;5;124mNo object named \u001b[39m\u001b[38;5;124m'\u001b[39m\u001b[38;5;132;01m{\u001b[39;00mname\u001b[38;5;132;01m}\u001b[39;00m\u001b[38;5;124m'\u001b[39m\u001b[38;5;124m found in \u001b[39m\u001b[38;5;124m'\u001b[39m\u001b[38;5;132;01m{\u001b[39;00m\u001b[38;5;28mself\u001b[39m\u001b[38;5;241m.\u001b[39m_name\u001b[38;5;132;01m}\u001b[39;00m\u001b[38;5;124m'\u001b[39m\u001b[38;5;124m registry!\u001b[39m\u001b[38;5;124m\"\u001b[39m)\n\u001b[1;32m     66\u001b[0m \u001b[38;5;28;01mreturn\u001b[39;00m ret\n",
      "\u001b[0;31mKeyError\u001b[0m: \"No object named 'VQAutoEncoder' found in 'arch' registry!\""
     ]
    }
   ],
   "source": [
    "vqgan = ARCH_REGISTRY.get('VQAutoEncoder')(\n",
    "    512, 64, [1, 2, 2, 4, 4, 8], 'nearest',\n",
    "    codebook_size=codebook_size\n",
    ").to(device)\n",
    "\n",
    "checkpoint = torch.load(ckpt_path)['params_ema']\n",
    "vqgan.load_state_dict(checkpoint)\n",
    "vqgan.eval()\n"
   ]
  },
  {
   "cell_type": "code",
   "execution_count": null,
   "metadata": {},
   "outputs": [],
   "source": [
    "\n",
    "for img_path in sorted(glob.glob(os.path.join(test_path, '*.[jp][pn]g'))):\n",
    "    img_name = os.path.basename(img_path)\n",
    "    print(img_name)\n",
    "    img = cv2.imread(img_path)\n",
    "    img = img2tensor(img / 255., bgr2rgb=True, float32=True)\n",
    "    normalize(img, (0.5, 0.5, 0.5), (0.5, 0.5, 0.5), inplace=True)\n",
    "    img = img.unsqueeze(0).to(device)\n",
    "    with torch.no_grad():\n",
    "        output = vqgan(img)[0]\n",
    "        output = tensor2img(output, min_max=[-1,1])\n",
    "        img = tensor2img(img, min_max=[-1,1])\n",
    "        restored_img = np.concatenate([img, output], axis=1)\n",
    "        restored_img = output\n",
    "    del output\n",
    "    torch.cuda.empty_cache()\n",
    "\n",
    "    path = os.path.splitext(os.path.join(save_root, img_name))[0]\n",
    "    save_path = f'{path}.png'\n",
    "    imwrite(restored_img, save_path)\n",
    "\n",
    "print(f'\\nAll results are saved in {save_root}')\n",
    "\n"
   ]
  }
 ],
 "metadata": {
  "kernelspec": {
   "display_name": "vqvae",
   "language": "python",
   "name": "python3"
  },
  "language_info": {
   "codemirror_mode": {
    "name": "ipython",
    "version": 3
   },
   "file_extension": ".py",
   "mimetype": "text/x-python",
   "name": "python",
   "nbconvert_exporter": "python",
   "pygments_lexer": "ipython3",
   "version": "3.10.13"
  }
 },
 "nbformat": 4,
 "nbformat_minor": 2
}
