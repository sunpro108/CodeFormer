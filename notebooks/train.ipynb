{
 "cells": [
  {
   "cell_type": "code",
   "execution_count": null,
   "metadata": {},
   "outputs": [],
   "source": [
    "%cd .."
   ]
  },
  {
   "cell_type": "code",
   "execution_count": null,
   "metadata": {},
   "outputs": [],
   "source": [
    "import argparse\n",
    "import datetime\n",
    "import logging\n",
    "import math\n",
    "import copy\n",
    "import random\n",
    "import time\n",
    "import torch\n",
    "import os\n",
    "from os import path as osp\n",
    "os.environ['OMP_NUM_THREADS'] = '1'\n",
    "os.environ['TORCH_HOME'] = '/sun/home_torch'\n",
    "\n",
    "from basicsr.data import build_dataloader, build_dataset\n",
    "from basicsr.data.data_sampler import EnlargedSampler\n",
    "from basicsr.data.prefetch_dataloader import CPUPrefetcher, CUDAPrefetcher\n",
    "from basicsr.models import build_model\n",
    "from basicsr.utils import (MessageLogger, check_resume, get_env_info, get_root_logger, init_tb_logger,\n",
    "                           init_wandb_logger, make_exp_dirs, mkdir_and_rename, set_random_seed)\n",
    "from basicsr.utils.dist_util import get_dist_info, init_dist\n",
    "from basicsr.utils.options import dict2str, parse\n",
    "import warnings\n",
    "# ignore UserWarning: Detected call of `lr_scheduler.step()` before `optimizer.step()`.\n",
    "warnings.filterwarnings(\"ignore\", category=UserWarning)"
   ]
  },
  {
   "cell_type": "code",
   "execution_count": null,
   "metadata": {},
   "outputs": [],
   "source": [
    "def parse_options(root_path, is_train=True):\n",
    "    parser = argparse.ArgumentParser()\n",
    "    parser.add_argument('-opt', type=str, required=True, help='Path to option YAML file.')\n",
    "    parser.add_argument('--launcher', choices=['none', 'pytorch', 'slurm'], default='none', help='job launcher')\n",
    "    # parser.add_argument('--local_rank', type=int, default=0)\n",
    "    args = parser.parse_args(['--launcher','pytorch','-opt','options/VQGAN_512_ds32_nearest_stage1_harmer.yml'])\n",
    "    opt = parse(args.opt, root_path, is_train=is_train)\n",
    "\n",
    "    # distributed settings\n",
    "    if args.launcher == 'none':\n",
    "        opt['dist'] = False\n",
    "        print('Disable distributed.', flush=True)\n",
    "    else:\n",
    "        opt['dist'] = True\n",
    "        # if args.launcher == 'slurm' and 'dist_params' in opt:\n",
    "        #     init_dist(args.launcher, **opt['dist_params'])\n",
    "        # else:\n",
    "        #     init_dist(args.launcher)\n",
    "\n",
    "    # opt['rank'], opt['world_size'] = get_dist_info()\n",
    "    opt['rank'] = 0\n",
    "    opt['world_size'] = 1\n",
    "\n",
    "    # random seed\n",
    "    seed = opt.get('manual_seed')\n",
    "    if seed is None:\n",
    "        seed = random.randint(1, 10000)\n",
    "        opt['manual_seed'] = seed\n",
    "    set_random_seed(seed + opt['rank'])\n",
    "\n",
    "    return opt\n",
    "\n",
    "\n",
    "def init_loggers(opt):\n",
    "    log_file = osp.join(opt['path']['log'], f\"train_{opt['name']}.log\")\n",
    "    logger = get_root_logger(logger_name='basicsr', log_level=logging.INFO, log_file=log_file)\n",
    "    # logger.info(get_env_info())\n",
    "    logger.info(dict2str(opt))\n",
    "\n",
    "    # initialize wandb logger before tensorboard logger to allow proper sync:\n",
    "    if (opt['logger'].get('wandb') is not None) and (opt['logger']['wandb'].get('project') is not None):\n",
    "        assert opt['logger'].get('use_tb_logger') is True, ('should turn on tensorboard when using wandb')\n",
    "        init_wandb_logger(opt)\n",
    "    tb_logger = None\n",
    "    if opt['logger'].get('use_tb_logger'):\n",
    "        tb_logger = init_tb_logger(log_dir=osp.join('tb_logger', opt['name']))\n",
    "    return logger, tb_logger"
   ]
  },
  {
   "cell_type": "code",
   "execution_count": null,
   "metadata": {},
   "outputs": [],
   "source": [
    "root_path = osp.abspath('./')\n",
    "root_path"
   ]
  },
  {
   "cell_type": "code",
   "execution_count": null,
   "metadata": {},
   "outputs": [],
   "source": [
    "opt = parse_options(root_path, is_train=True)\n",
    "\n",
    "torch.backends.cudnn.benchmark = True\n",
    "# torch.backends.cudnn.deterministic = True\n",
    "\n",
    "# load resume states if necessary\n",
    "if opt['path'].get('resume_state'):\n",
    "    device_id = torch.cuda.current_device()\n",
    "    resume_state = torch.load(\n",
    "        opt['path']['resume_state'],\n",
    "        map_location=lambda storage, loc: storage.cuda(device_id))\n",
    "# load pretrained network\n",
    "elif opt['path'].get('pretrain_network_g'):\n",
    "    device_id = torch.cuda.current_device()\n",
    "    pretrained_state = torch.load(\n",
    "        opt['path']['pretrain_network_g'],\n",
    "        map_location=lambda storage, loc: storage.cuda(device_id)\n",
    "    )[f\"{opt['path']['param_key_g']}\"]\n",
    "    resume_state = None\n",
    "else:\n",
    "    resume_state = None\n",
    "\n",
    "# mkdir for experiments and logger\n",
    "if resume_state is None:\n",
    "    make_exp_dirs(opt)\n",
    "    if opt['logger'].get('use_tb_logger') and opt['rank'] == 0:\n",
    "        mkdir_and_rename(osp.join('tb_logger', opt['name']))\n",
    "\n",
    "# initialize loggers\n",
    "logger, tb_logger = init_loggers(opt)"
   ]
  },
  {
   "cell_type": "code",
   "execution_count": null,
   "metadata": {},
   "outputs": [],
   "source": [
    "model = build_model(opt)"
   ]
  },
  {
   "cell_type": "code",
   "execution_count": null,
   "metadata": {},
   "outputs": [],
   "source": []
  }
 ],
 "metadata": {
  "kernelspec": {
   "display_name": "vqvae",
   "language": "python",
   "name": "python3"
  },
  "language_info": {
   "codemirror_mode": {
    "name": "ipython",
    "version": 3
   },
   "file_extension": ".py",
   "mimetype": "text/x-python",
   "name": "python",
   "nbconvert_exporter": "python",
   "pygments_lexer": "ipython3",
   "version": "3.10.13"
  }
 },
 "nbformat": 4,
 "nbformat_minor": 2
}
